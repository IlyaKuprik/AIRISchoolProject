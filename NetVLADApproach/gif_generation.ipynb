{
 "cells": [
  {
   "cell_type": "code",
   "execution_count": 10,
   "metadata": {},
   "outputs": [],
   "source": [
    "import numpy as np\n",
    "import pandas as pd\n",
    "\n",
    "from matplotlib import pyplot as plt\n",
    "import os\n",
    "from tqdm import tqdm"
   ]
  },
  {
   "cell_type": "code",
   "execution_count": 16,
   "metadata": {},
   "outputs": [],
   "source": [
    "FRAMES_DIR = 'frames/'"
   ]
  },
  {
   "cell_type": "code",
   "execution_count": 17,
   "metadata": {},
   "outputs": [],
   "source": [
    "filenames = !ls $FRAMES_DIR\n",
    "filenames = sorted(filenames, key=lambda x:int(x.split('.')[0]))"
   ]
  },
  {
   "cell_type": "code",
   "execution_count": 21,
   "metadata": {},
   "outputs": [],
   "source": [
    "import imageio\n",
    "\n",
    "\n",
    "def generate_gif(gif_name, delay_between_frames=0, repeat_last_frame=0):\n",
    "    with imageio.get_writer(gif_name, mode='I') as writer:\n",
    "        with tqdm(total=len(filenames) + repeat_last_frame) as pbar:\n",
    "            for idx, file in enumerate(filenames):\n",
    "                path = os.path.join('frames/', file)\n",
    "                image = imageio.imread(path)\n",
    "                writer.append_data(image)\n",
    "                if idx != len(filenames) - 1:\n",
    "                    for _ in range(delay_between_frames):\n",
    "                        writer.append_data(image)\n",
    "                pbar.update(1)\n",
    "            for _ in range(repeat_last_frame):\n",
    "                writer.append_data(image)\n",
    "                pbar.update(1)"
   ]
  },
  {
   "cell_type": "code",
   "execution_count": 22,
   "metadata": {},
   "outputs": [
    {
     "name": "stderr",
     "output_type": "stream",
     "text": [
      "  0%|          | 0/300 [00:00<?, ?it/s]/var/folders/9h/s1rswq6s6c301wnwp21fbgn00000gn/T/ipykernel_34805/2163209905.py:9: DeprecationWarning: Starting with ImageIO v3 the behavior of this function will switch to that of iio.v3.imread. To keep the current behavior (and make this warning dissapear) use `import imageio.v2 as imageio` or call `imageio.v2.imread` directly.\n",
      "  image = imageio.imread(path)\n",
      "100%|██████████| 300/300 [01:29<00:00,  3.37it/s]\n"
     ]
    }
   ],
   "source": [
    "generate_gif('umap.gif', 10, 100)"
   ]
  }
 ],
 "metadata": {
  "kernelspec": {
   "display_name": "Python 3.9.7 64-bit ('.miniforge3')",
   "language": "python",
   "name": "python3"
  },
  "language_info": {
   "codemirror_mode": {
    "name": "ipython",
    "version": 3
   },
   "file_extension": ".py",
   "mimetype": "text/x-python",
   "name": "python",
   "nbconvert_exporter": "python",
   "pygments_lexer": "ipython3",
   "version": "3.9.7"
  },
  "orig_nbformat": 4,
  "vscode": {
   "interpreter": {
    "hash": "7f78f259fa1dc7bc74b19f4f43935ee031bbcac09bc69ffb9c7a2238a9524f6a"
   }
  }
 },
 "nbformat": 4,
 "nbformat_minor": 2
}
